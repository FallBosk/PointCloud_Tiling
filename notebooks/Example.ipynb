{
  "cells": [
    {
      "attachments": {},
      "cell_type": "markdown",
      "metadata": {},
      "source": [
        "# Example Notebook\n",
        "---\n",
        "Use this notebook to tile and subsample large-scale pointcloud files.\n",
        "1. Tiling of pointcloud\n",
        "2. Visualize Search Area"
      ]
    },
    {
      "cell_type": "code",
      "execution_count": null,
      "metadata": {},
      "outputs": [],
      "source": [
        "# Uncomment to load the local package rather than the pip-installed version.\n",
        "# Add project src to path.\n",
        "import set_path"
      ]
    },
    {
      "cell_type": "code",
      "execution_count": null,
      "metadata": {},
      "outputs": [],
      "source": [
        "# import modules\n",
        "from pct.utils import las_utils, plot_utils"
      ]
    },
    {
      "cell_type": "markdown",
      "metadata": {},
      "source": [
        "### 1. Tiling\n",
        "---"
      ]
    },
    {
      "cell_type": "code",
      "execution_count": null,
      "metadata": {},
      "outputs": [],
      "source": [
        "# Read folder structure\n",
        "ROOT_FOLDER = '../../../../../TAUW_BOA_v2/data/Kemkes/tile_training/'\n",
        "\n",
        "in_folder = ROOT_FOLDER + 'kemkes/'\n",
        "out_folder = ROOT_FOLDER + 'tiles/'"
      ]
    },
    {
      "cell_type": "markdown",
      "metadata": {},
      "source": [
        "Tile pointcloud files"
      ]
    },
    {
      "cell_type": "code",
      "execution_count": null,
      "metadata": {},
      "outputs": [],
      "source": [
        "# Adjust point_per_iter if files don't fit in RAM!!\n",
        "las_utils.tile_las_folder(in_folder, out_folder)"
      ]
    },
    {
      "cell_type": "markdown",
      "metadata": {},
      "source": [
        "[optional] Delete small files."
      ]
    },
    {
      "cell_type": "code",
      "execution_count": null,
      "metadata": {},
      "outputs": [],
      "source": [
        "min_file_size = 1 # (in MBs)\n",
        "\n",
        "# for f in Path(out_folder).glob('.laz'):\n",
        "#     if os.stat(f).st_size / (1024 * 1024) < min_file_size:\n",
        "#         f.unlink()"
      ]
    },
    {
      "cell_type": "markdown",
      "metadata": {},
      "source": [
        "Visualize Tiles on map"
      ]
    },
    {
      "cell_type": "code",
      "execution_count": null,
      "metadata": {},
      "outputs": [],
      "source": [
        "map_file = ROOT_FOLDER + 'tiles_map.html'"
      ]
    },
    {
      "cell_type": "code",
      "execution_count": null,
      "metadata": {},
      "outputs": [],
      "source": [
        "tilecodes = las_utils.get_tilecodes_from_folder(out_folder, las_prefix='filtered_')\n",
        "map = plot_utils.plot_tiles_map(tilecodes)\n",
        "map.save(map_file)"
      ]
    },
    {
      "cell_type": "markdown",
      "metadata": {},
      "source": [
        "### 2. Subsampling\n",
        "---"
      ]
    },
    {
      "cell_type": "markdown",
      "metadata": {},
      "source": [
        "Subsample tiles"
      ]
    },
    {
      "cell_type": "code",
      "execution_count": null,
      "metadata": {},
      "outputs": [],
      "source": [
        "grid_size = 0.01 # minimal distance between points"
      ]
    },
    {
      "cell_type": "code",
      "execution_count": null,
      "metadata": {},
      "outputs": [],
      "source": [
        "# will overwrite files in specified in_folder\n",
        "las_utils.subsample_las_folder(out_folder, grid_size=grid_size)"
      ]
    },
    {
      "cell_type": "markdown",
      "metadata": {},
      "source": [
        "### Scripting\n",
        "---\n",
        "If you prefer running through command line use one of the following options:\n",
        "\n",
        "Using `pipeline.py`:"
      ]
    },
    {
      "cell_type": "code",
      "execution_count": null,
      "metadata": {},
      "outputs": [],
      "source": [
        "!python ../scripts/pipeline.py --in_folder '../dataset/kemkes/' --out_folder '../dataset/tiles/'"
      ]
    },
    {
      "cell_type": "markdown",
      "metadata": {},
      "source": [
        "Using `tile.py` + `subsample.py`:"
      ]
    },
    {
      "cell_type": "code",
      "execution_count": null,
      "metadata": {},
      "outputs": [],
      "source": [
        "!python ../scripts/tile.py --in_folder '../dataset/kemkes/' --out_folder '../dataset/tiles/' --delete"
      ]
    },
    {
      "cell_type": "code",
      "execution_count": null,
      "metadata": {},
      "outputs": [],
      "source": [
        "!python ../scripts/subsample.py --in_folder '../dataset/tiles/'"
      ]
    }
  ],
  "metadata": {
    "kernel_info": {
      "name": "python3"
    },
    "kernelspec": {
      "display_name": "treemap_env",
      "language": "python",
      "name": "treemap_env"
    },
    "language_info": {
      "codemirror_mode": {
        "name": "ipython",
        "version": 3
      },
      "file_extension": ".py",
      "mimetype": "text/x-python",
      "name": "python",
      "nbconvert_exporter": "python",
      "pygments_lexer": "ipython3",
      "version": "3.9.6"
    },
    "microsoft": {
      "ms_spell_check": {
        "ms_spell_check_language": "en"
      }
    },
    "nteract": {
      "version": "nteract-front-end@1.0.0"
    },
    "orig_nbformat": 4
  },
  "nbformat": 4,
  "nbformat_minor": 2
}
